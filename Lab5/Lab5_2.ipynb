{
 "cells": [
  {
   "metadata": {},
   "cell_type": "markdown",
   "source": "## Task 1 using Plotly",
   "id": "b78d317f6bcc425"
  },
  {
   "metadata": {
    "ExecuteTime": {
     "end_time": "2025-01-28T21:10:56.732761Z",
     "start_time": "2025-01-28T21:10:56.016124Z"
    }
   },
   "cell_type": "code",
   "source": [
    "import numpy as np\n",
    "import plotly.graph_objects as go\n",
    "from plotly.subplots import make_subplots\n",
    "from ipywidgets import VBox, HBox, FloatSlider, Checkbox, Button, Dropdown, Output\n",
    "from scipy import signal"
   ],
   "id": "18171ba12f0302db",
   "outputs": [],
   "execution_count": 1
  },
  {
   "metadata": {},
   "cell_type": "markdown",
   "source": "### Function for creating harmonics with noise",
   "id": "390ea42f2158dac"
  },
  {
   "metadata": {
    "ExecuteTime": {
     "end_time": "2025-01-28T21:10:56.740793Z",
     "start_time": "2025-01-28T21:10:56.737258Z"
    }
   },
   "cell_type": "code",
   "source": [
    "def harmonic_with_noise(amplitude, frequency, phase, noise_mean, noise_covariance, show_noise, cutoff_frequency=None):\n",
    "    clean_signal = amplitude * np.sin(2 * np.pi * frequency * time + phase)\n",
    "    noise = np.random.normal(noise_mean, np.sqrt(noise_covariance), size=time.shape) if show_noise else 0\n",
    "    noisy_signal = clean_signal + noise\n",
    "    return clean_signal, noisy_signal"
   ],
   "id": "dde02b9e1e574710",
   "outputs": [],
   "execution_count": 2
  },
  {
   "metadata": {},
   "cell_type": "markdown",
   "source": "### Function for resetting parameters",
   "id": "e5b425b152eb02c3"
  },
  {
   "metadata": {
    "ExecuteTime": {
     "end_time": "2025-01-28T21:10:56.929833Z",
     "start_time": "2025-01-28T21:10:56.925355Z"
    }
   },
   "cell_type": "code",
   "source": [
    "def reset_parameters(button):\n",
    "    amplitude_slider.value = initial_params['amplitude']\n",
    "    frequency_slider.value = initial_params['frequency']\n",
    "    phase_slider.value = initial_params['phase']\n",
    "    noise_mean_slider.value = initial_params['noise_mean']\n",
    "    noise_covariance_slider.value = initial_params['noise_covariance']\n",
    "    cutoff_frequency_slider.value = initial_params['cutoff_frequency']\n",
    "    show_noise_checkbox.value = initial_params['show_noise']\n",
    "    signal_color_selection.value = \"Blue\"\n",
    "    noise_color_selection.value = \"Orange\"\n",
    "    update_graph()"
   ],
   "id": "3a5fccd974e05df6",
   "outputs": [],
   "execution_count": 3
  },
  {
   "metadata": {},
   "cell_type": "markdown",
   "source": "### Updating the graph when changing the values ​​of the sliders",
   "id": "3d3edd5f6485ceed"
  },
  {
   "metadata": {
    "ExecuteTime": {
     "end_time": "2025-01-28T21:10:56.944511Z",
     "start_time": "2025-01-28T21:10:56.938620Z"
    }
   },
   "cell_type": "code",
   "source": [
    "def update_graph(change=None):\n",
    "    global previous_noise_mean, previous_noise_covariance, current_noise\n",
    "\n",
    "    # Генерация сигналов\n",
    "    amplitude = amplitude_slider.value\n",
    "    frequency = frequency_slider.value\n",
    "    phase = phase_slider.value\n",
    "    noise_mean = noise_mean_slider.value\n",
    "    noise_covariance = noise_covariance_slider.value\n",
    "    show_noise = show_noise_checkbox.value\n",
    "\n",
    "    if noise_mean != previous_noise_mean or noise_covariance != previous_noise_covariance:\n",
    "        current_noise = np.random.normal(noise_mean, np.sqrt(noise_covariance), size=time.shape)\n",
    "        previous_noise_mean = noise_mean\n",
    "        previous_noise_covariance = noise_covariance\n",
    "    \n",
    "    clean_signal = amplitude * np.sin(2 * np.pi * frequency * time + phase)\n",
    "    noisy_signal = clean_signal + (current_noise if current_noise is not None else 0)\n",
    "    \n",
    "    filtered_signal = filter_signal(time, noisy_signal, cutoff_frequency_slider.value)\n",
    "\n",
    "    signal_color = signal_color_selection.value.lower()\n",
    "    noise_color = noise_color_selection.value.lower()\n",
    "\n",
    "    with fig_line.batch_update():\n",
    "        fig_line.data[0].y = noisy_signal\n",
    "        fig_line.data[0].line.color = noise_color\n",
    "        fig_line.data[1].y = clean_signal\n",
    "        fig_line.data[1].line.color = signal_color\n",
    "        fig_line.data[2].y = filtered_signal\n",
    "        fig_line.data[2].line.color = 'red'  # Красный цвет для фильтрованного сигнала\n",
    "\n",
    "    with fig_dotted.batch_update():\n",
    "        fig_dotted.data[0].y = noisy_signal\n",
    "        fig_dotted.data[0].marker.color = noise_color\n",
    "        fig_dotted.data[1].y = clean_signal\n",
    "        fig_dotted.data[1].marker.color = signal_color\n",
    "        fig_dotted.data[2].y = filtered_signal\n",
    "        fig_dotted.data[2].marker.color = 'red'  # Красный цвет для фильтрованного сигнала"
   ],
   "id": "89615016d175734a",
   "outputs": [],
   "execution_count": 4
  },
  {
   "metadata": {},
   "cell_type": "markdown",
   "source": "### Signal filtering function",
   "id": "e5027ac79cf2a21c"
  },
  {
   "metadata": {
    "ExecuteTime": {
     "end_time": "2025-01-28T21:10:56.957137Z",
     "start_time": "2025-01-28T21:10:56.952039Z"
    }
   },
   "cell_type": "code",
   "source": [
    "def filter_signal(t, y_noisy, cutoff_frequency):\n",
    "    fs = 100  # Частота дискретизації\n",
    "    nyquist = 0.5 * fs  # Частота Найквіста\n",
    "    normal_cutoff = cutoff_frequency / nyquist  # Нормалізована частота зрізу\n",
    "    b, a = signal.butter(4, normal_cutoff, btype='low')  # 4-й порядок фільтра\n",
    "    y_filtered = signal.filtfilt(b, a, y_noisy)  # Фільтрація сигналу\n",
    "    return y_filtered"
   ],
   "id": "ea3cb8c64369d548",
   "outputs": [],
   "execution_count": 5
  },
  {
   "metadata": {},
   "cell_type": "markdown",
   "source": "### Creating an application",
   "id": "d8421639fd9b1a2d"
  },
  {
   "metadata": {
    "collapsed": true,
    "ExecuteTime": {
     "end_time": "2025-01-28T21:10:57.349288Z",
     "start_time": "2025-01-28T21:10:56.974202Z"
    }
   },
   "cell_type": "code",
   "source": [
    "# Початкові параметри\n",
    "initial_params = {\n",
    "    \"amplitude\": 1.0,\n",
    "    \"frequency\": 0.5,\n",
    "    \"phase\": 0.0,\n",
    "    \"noise_mean\": 0.0,\n",
    "    \"noise_covariance\": 0.1,\n",
    "    \"show_noise\": True,\n",
    "    \"cutoff_frequency\": 5.0,\n",
    "}\n",
    "\n",
    "time = np.linspace(0, 10, 1000)\n",
    "\n",
    "previous_noise_mean = initial_params[\"noise_mean\"]\n",
    "previous_noise_covariance = initial_params[\"noise_covariance\"]\n",
    "current_noise = np.random.normal(previous_noise_mean, np.sqrt(previous_noise_covariance), size=time.shape)\n",
    "\n",
    "# Генерація початкових сигналів\n",
    "clean_signal, noisy_signal = harmonic_with_noise(**initial_params)\n",
    "filtered_signal = filter_signal(time, noisy_signal, initial_params['cutoff_frequency'])\n",
    "\n",
    "# Графіки\n",
    "fig_line = go.FigureWidget()\n",
    "fig_line.add_scatter(x=time, y=noisy_signal, mode='lines', name='Noisy Signal', line=dict(color='orange'))\n",
    "fig_line.add_scatter(x=time, y=clean_signal, mode='lines', name='Clean Signal', line=dict(color='blue'))\n",
    "fig_line.add_scatter(x=time, y=filtered_signal, mode='lines', name='Filtered Signal', line=dict(color='green'))\n",
    "fig_line.update_layout(title=\"Line Plot\", xaxis_title=\"Time\", yaxis_title=\"Amplitude\")\n",
    "\n",
    "fig_dotted = go.FigureWidget()\n",
    "fig_dotted.add_scatter(x=time, y=noisy_signal, mode='markers', name='Noisy Signal', marker=dict(color='orange'))\n",
    "fig_dotted.add_scatter(x=time, y=clean_signal, mode='markers', name='Clean Signal', marker=dict(color='blue'))\n",
    "fig_dotted.add_scatter(x=time, y=filtered_signal, mode='markers', name='Filtered Signal', marker=dict(color='green'))\n",
    "fig_dotted.update_layout(title=\"Dotted Plot\", xaxis_title=\"Time\", yaxis_title=\"Amplitude\")\n",
    "\n",
    "# Віджети\n",
    "amplitude_slider = FloatSlider(value=initial_params['amplitude'], min=0.1, max=2.0, step=0.1, description='Amplitude')\n",
    "frequency_slider = FloatSlider(value=initial_params['frequency'], min=0.1, max=2.0, step=0.1, description='Frequency')\n",
    "phase_slider = FloatSlider(value=initial_params['phase'], min=-np.pi, max=np.pi, step=0.1, description='Phase')\n",
    "noise_mean_slider = FloatSlider(value=initial_params['noise_mean'], min=-1.0, max=1.0, step=0.1, description='Noise Mean')\n",
    "noise_covariance_slider = FloatSlider(value=initial_params['noise_covariance'], min=0.0, max=1.0, step=0.1, description='Noise Cov')\n",
    "cutoff_frequency_slider = FloatSlider(value=initial_params['cutoff_frequency'], min=0.0, max=10.0, step=0.1, description='Cutoff Frequency')\n",
    "show_noise_checkbox = Checkbox(value=initial_params['show_noise'], description='Show Noise')\n",
    "reset_button = Button(description=\"Reset\", button_style=\"info\")\n",
    "signal_color_selection = Dropdown(options=[\"Orange\", \"Blue\", \"Green\", \"Red\"], value=\"Blue\", description=\"Signal Color:\")\n",
    "noise_color_selection = Dropdown(options=[\"Orange\", \"Blue\", \"Green\", \"Red\"], value=\"Orange\", description=\"Noise Color:\")\n",
    "\n",
    "# Прив'язка подій\n",
    "amplitude_slider.observe(update_graph, names='value')\n",
    "frequency_slider.observe(update_graph, names='value')\n",
    "phase_slider.observe(update_graph, names='value')\n",
    "noise_mean_slider.observe(update_graph, names='value')\n",
    "noise_covariance_slider.observe(update_graph, names='value')\n",
    "cutoff_frequency_slider.observe(update_graph, names='value')\n",
    "show_noise_checkbox.observe(update_graph, names='value')\n",
    "signal_color_selection.observe(update_graph, names='value')\n",
    "noise_color_selection.observe(update_graph, names='value')\n",
    "reset_button.on_click(reset_parameters)\n",
    "\n",
    "# Відображення\n",
    "ui = VBox([\n",
    "    HBox([amplitude_slider, frequency_slider, phase_slider]),\n",
    "    HBox([noise_mean_slider, noise_covariance_slider, show_noise_checkbox]),\n",
    "    HBox([signal_color_selection, noise_color_selection, reset_button]),\n",
    "])\n",
    "\n",
    "VBox([ui, fig_line, fig_dotted])"
   ],
   "id": "initial_id",
   "outputs": [
    {
     "data": {
      "text/plain": [
       "VBox(children=(VBox(children=(HBox(children=(FloatSlider(value=1.0, description='Amplitude', max=2.0, min=0.1)…"
      ],
      "application/vnd.jupyter.widget-view+json": {
       "version_major": 2,
       "version_minor": 0,
       "model_id": "82a3578fa686409e90f817e7df318b9e"
      }
     },
     "execution_count": 6,
     "metadata": {},
     "output_type": "execute_result"
    }
   ],
   "execution_count": 6
  },
  {
   "metadata": {
    "ExecuteTime": {
     "end_time": "2025-01-28T21:10:57.365458Z",
     "start_time": "2025-01-28T21:10:57.363023Z"
    }
   },
   "cell_type": "code",
   "source": "",
   "id": "59712127e132f796",
   "outputs": [],
   "execution_count": null
  }
 ],
 "metadata": {
  "kernelspec": {
   "display_name": "Python 3",
   "language": "python",
   "name": "python3"
  },
  "language_info": {
   "codemirror_mode": {
    "name": "ipython",
    "version": 2
   },
   "file_extension": ".py",
   "mimetype": "text/x-python",
   "name": "python",
   "nbconvert_exporter": "python",
   "pygments_lexer": "ipython2",
   "version": "2.7.6"
  }
 },
 "nbformat": 4,
 "nbformat_minor": 5
}
